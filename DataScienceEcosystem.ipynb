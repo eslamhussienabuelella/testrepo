{
 "cells": [
  {
   "cell_type": "markdown",
   "id": "f4bb69ba-609e-4b1b-b965-c0e168ba7693",
   "metadata": {},
   "source": [
    "# Data Science Tools and Ecosystem"
   ]
  },
  {
   "cell_type": "markdown",
   "id": "8ac8e412-d1ca-4ea7-ac7f-8ff219ae0810",
   "metadata": {},
   "source": [
    "**In this notebook, Data Science Tools and Ecosystem are summarized.**"
   ]
  },
  {
   "cell_type": "markdown",
   "id": "db65e97d-6563-46b7-afd2-1902ed9b667b",
   "metadata": {},
   "source": [
    "**Objectives:**\n",
    "* popular languages that Data Scientists use\n",
    "* popular libraries that Data Scientists use\n",
    "* popular Data Science tools\n",
    "* perform some arithmetic expressions\n",
    "## Author\n",
    "Eslam Abuelella"
   ]
  },
  {
   "cell_type": "markdown",
   "id": "05bc1133-1b72-4057-9648-1b04bf2ff6c3",
   "metadata": {},
   "source": [
    "**Some of the popular languages that Data Scientists use are:**\n",
    "\n",
    "1. *Python*\n",
    "2. *SQL*\n",
    "3. *R*\n",
    "4. *Julia*"
   ]
  },
  {
   "cell_type": "markdown",
   "id": "a988c0d0-ed02-457f-b509-84cd1ff38a1a",
   "metadata": {},
   "source": [
    "**Some of the popular libraries that Data Scientists use are:**\n",
    "\n",
    "1. *NumPy*\n",
    "2. *Pandas*\n",
    "3. *Seaborn*\n",
    "4. *Matplotlib*\n",
    "5. *Scikit-learn*\n",
    "6. *dplyr*\n",
    "7. *tidyr*\n",
    "8. *ggplot2*\n",
    "9. *caret*"
   ]
  },
  {
   "cell_type": "markdown",
   "id": "2dd06dbe-facb-4d00-b0d6-d393b8dad59c",
   "metadata": {},
   "source": [
    "|Data Science Tools|\n",
    "|--|\n",
    "|Jupyter Notebook|\n",
    "|Rstudio|\n",
    "|VS Code|"
   ]
  },
  {
   "cell_type": "markdown",
   "id": "42d621c5-bf60-4a7a-bf95-114d31941146",
   "metadata": {},
   "source": [
    "### Below are a few examples of evaluating arithmetic expressions in Python"
   ]
  },
  {
   "cell_type": "code",
   "execution_count": 5,
   "id": "14b6462f-60f9-48c0-8074-e9044c97931a",
   "metadata": {},
   "outputs": [
    {
     "data": {
      "text/plain": [
       "17"
      ]
     },
     "execution_count": 5,
     "metadata": {},
     "output_type": "execute_result"
    }
   ],
   "source": [
    "# This a simple arithmetic expression to multiply then add integers\n",
    "(3*4)+5\n"
   ]
  },
  {
   "cell_type": "code",
   "execution_count": 9,
   "id": "3a3a945d-bb78-4d93-8e75-d943760a848e",
   "metadata": {},
   "outputs": [
    {
     "name": "stdout",
     "output_type": "stream",
     "text": [
      "3.3333333333333335 hours\n"
     ]
    }
   ],
   "source": [
    "# This will convert 200 minutes to hours by diving by 60\n",
    "\n",
    "Minutes_to_hours = 200/60\n",
    "print(Minutes_to_hours, \"hours\")"
   ]
  }
 ],
 "metadata": {
  "kernelspec": {
   "display_name": "Python 3 (ipykernel)",
   "language": "python",
   "name": "python3"
  },
  "language_info": {
   "codemirror_mode": {
    "name": "ipython",
    "version": 3
   },
   "file_extension": ".py",
   "mimetype": "text/x-python",
   "name": "python",
   "nbconvert_exporter": "python",
   "pygments_lexer": "ipython3",
   "version": "3.12.7"
  }
 },
 "nbformat": 4,
 "nbformat_minor": 5
}
